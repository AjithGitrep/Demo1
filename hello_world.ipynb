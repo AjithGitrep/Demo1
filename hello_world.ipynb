def fun():
for i in range(10):
  if(i==3):
    print("World is changing")
  elif (i==5):
    print("world is good")
  else:
    print("***")
fun()
